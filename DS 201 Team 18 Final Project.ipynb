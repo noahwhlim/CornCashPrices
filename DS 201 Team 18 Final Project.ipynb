{
 "cells": [
  {
   "cell_type": "markdown",
   "id": "2f396a11",
   "metadata": {},
   "source": [
    "# Team 18 Final Project"
   ]
  },
  {
   "cell_type": "code",
   "execution_count": 60,
   "id": "d0437efa",
   "metadata": {},
   "outputs": [],
   "source": [
    "#libraries\n",
    "import pandas as pd\n",
    "import matplotlib.pyplot as plt\n",
    "import statsmodels.api as sm\n",
    "import seaborn as sns\n",
    "from sklearn.model_selection import train_test_split\n",
    "\n",
    "from sklearn.linear_model import LinearRegression\n",
    "import sklearn.metrics as metrics\n"
   ]
  },
  {
   "cell_type": "code",
   "execution_count": 24,
   "id": "15beedde",
   "metadata": {},
   "outputs": [
    {
     "data": {
      "text/plain": [
       "Index(['Year', 'Quarter', 'Cash Price ($/bu)', 'Beginning Stocks (Million bu)',\n",
       "       'Ending Stocks', 'Exports', 'Imports', 'Total Supply',\n",
       "       'Total Disapearance', 'Total Domestic Use', 'Stocks-to-Use'],\n",
       "      dtype='object')"
      ]
     },
     "execution_count": 24,
     "metadata": {},
     "output_type": "execute_result"
    }
   ],
   "source": [
    "#import csv\n",
    "corn = pd.read_csv('Corn Commodity Data.csv')\n",
    "corn.columns"
   ]
  },
  {
   "cell_type": "code",
   "execution_count": 26,
   "id": "8eb3a24b",
   "metadata": {},
   "outputs": [
    {
     "data": {
      "text/html": [
       "<div>\n",
       "<style scoped>\n",
       "    .dataframe tbody tr th:only-of-type {\n",
       "        vertical-align: middle;\n",
       "    }\n",
       "\n",
       "    .dataframe tbody tr th {\n",
       "        vertical-align: top;\n",
       "    }\n",
       "\n",
       "    .dataframe thead th {\n",
       "        text-align: right;\n",
       "    }\n",
       "</style>\n",
       "<table border=\"1\" class=\"dataframe\">\n",
       "  <thead>\n",
       "    <tr style=\"text-align: right;\">\n",
       "      <th></th>\n",
       "      <th>Year</th>\n",
       "      <th>Quarter</th>\n",
       "      <th>CashPrice</th>\n",
       "      <th>BeginningStocks</th>\n",
       "      <th>Ending Stocks</th>\n",
       "      <th>Exports</th>\n",
       "      <th>Imports</th>\n",
       "      <th>Total Supply</th>\n",
       "      <th>Total Disapearance</th>\n",
       "      <th>Total Domestic Use</th>\n",
       "      <th>Stocks-to-Use</th>\n",
       "    </tr>\n",
       "  </thead>\n",
       "  <tbody>\n",
       "    <tr>\n",
       "      <th>0</th>\n",
       "      <td>1980</td>\n",
       "      <td>Q1 Sep-Nov</td>\n",
       "      <td>3.027</td>\n",
       "      <td>2034.3</td>\n",
       "      <td>6595.9</td>\n",
       "      <td>687.867</td>\n",
       "      <td>0.292</td>\n",
       "      <td>8673.988</td>\n",
       "      <td>2078.088</td>\n",
       "      <td>1390.221</td>\n",
       "      <td>3.174023</td>\n",
       "    </tr>\n",
       "    <tr>\n",
       "      <th>1</th>\n",
       "      <td>1980</td>\n",
       "      <td>Q2 Dec-Feb</td>\n",
       "      <td>3.197</td>\n",
       "      <td>6595.9</td>\n",
       "      <td>4662.4</td>\n",
       "      <td>645.974</td>\n",
       "      <td>0.003</td>\n",
       "      <td>6595.903</td>\n",
       "      <td>1933.503</td>\n",
       "      <td>1287.529</td>\n",
       "      <td>2.411375</td>\n",
       "    </tr>\n",
       "    <tr>\n",
       "      <th>2</th>\n",
       "      <td>1980</td>\n",
       "      <td>Q3 Mar-May</td>\n",
       "      <td>3.244</td>\n",
       "      <td>4662.4</td>\n",
       "      <td>2773.5</td>\n",
       "      <td>613.953</td>\n",
       "      <td>0.046</td>\n",
       "      <td>4662.446</td>\n",
       "      <td>1888.946</td>\n",
       "      <td>1274.993</td>\n",
       "      <td>1.468279</td>\n",
       "    </tr>\n",
       "  </tbody>\n",
       "</table>\n",
       "</div>"
      ],
      "text/plain": [
       "   Year     Quarter  CashPrice  BeginningStocks  Ending Stocks  Exports  \\\n",
       "0  1980  Q1 Sep-Nov      3.027           2034.3         6595.9  687.867   \n",
       "1  1980  Q2 Dec-Feb      3.197           6595.9         4662.4  645.974   \n",
       "2  1980  Q3 Mar-May      3.244           4662.4         2773.5  613.953   \n",
       "\n",
       "   Imports  Total Supply  Total Disapearance  Total Domestic Use  \\\n",
       "0    0.292      8673.988            2078.088            1390.221   \n",
       "1    0.003      6595.903            1933.503            1287.529   \n",
       "2    0.046      4662.446            1888.946            1274.993   \n",
       "\n",
       "   Stocks-to-Use  \n",
       "0       3.174023  \n",
       "1       2.411375  \n",
       "2       1.468279  "
      ]
     },
     "execution_count": 26,
     "metadata": {},
     "output_type": "execute_result"
    }
   ],
   "source": [
    "newcorn = corn.rename(columns={\"Cash Price ($/bu)\": \"CashPrice\", \"Beginning Stocks (Million bu)\": \"BeginningStocks\"})\n",
    "newcorn.head(3)"
   ]
  },
  {
   "cell_type": "code",
   "execution_count": 28,
   "id": "0c05de55",
   "metadata": {
    "scrolled": true
   },
   "outputs": [
    {
     "data": {
      "text/plain": [
       "(164, 11)"
      ]
     },
     "execution_count": 28,
     "metadata": {},
     "output_type": "execute_result"
    }
   ],
   "source": [
    "#check size of data set\n",
    "newcorn.shape"
   ]
  },
  {
   "cell_type": "code",
   "execution_count": 36,
   "id": "0affbdb5",
   "metadata": {},
   "outputs": [
    {
     "data": {
      "text/plain": [
       "Year                  0\n",
       "Quarter               0\n",
       "CashPrice             0\n",
       "BeginningStocks       0\n",
       "Ending Stocks         0\n",
       "Exports               0\n",
       "Imports               0\n",
       "Total Supply          0\n",
       "Total Disapearance    0\n",
       "Total Domestic Use    0\n",
       "Stocks-to-Use         0\n",
       "dtype: int64"
      ]
     },
     "execution_count": 36,
     "metadata": {},
     "output_type": "execute_result"
    }
   ],
   "source": [
    "#check null values of data set\n",
    "newcorn.isna().sum()"
   ]
  },
  {
   "cell_type": "code",
   "execution_count": 39,
   "id": "170ba1e9",
   "metadata": {
    "scrolled": true
   },
   "outputs": [
    {
     "data": {
      "text/plain": [
       "CashPrice             1.000000\n",
       "Imports               0.638609\n",
       "Year                  0.557962\n",
       "Total Domestic Use    0.418328\n",
       "Total Disapearance    0.401249\n",
       "BeginningStocks       0.068771\n",
       "Total Supply          0.037333\n",
       "Exports              -0.057501\n",
       "Name: CashPrice, dtype: float64"
      ]
     },
     "execution_count": 39,
     "metadata": {},
     "output_type": "execute_result"
    }
   ],
   "source": [
    "newcorn.corr()['CashPrice'].nlargest(8)"
   ]
  },
  {
   "cell_type": "code",
   "execution_count": 48,
   "id": "c360ef30",
   "metadata": {},
   "outputs": [
    {
     "data": {
      "image/png": "[encoded data removed]",
      "text/plain": [
       "<Figure size 432x288 with 2 Axes>"
      ]
     },
     "metadata": {
      "needs_background": "light"
     },
     "output_type": "display_data"
    }
   ],
   "source": [
    "corr = newcorn[['Year', 'Quarter', 'CashPrice', 'BeginningStocks', 'Ending Stocks',\n",
    "       'Exports', 'Imports', 'Total Supply', 'Total Disapearance',\n",
    "       'Total Domestic Use', 'Stocks-to-Use']].corr()\n",
    "ax = sns.heatmap(\n",
    "    corr, \n",
    "    vmin=-1, vmax=1, center=0,\n",
    "    cmap=sns.diverging_palette(20, 220, n=200),\n",
    "    square=True\n",
    ")\n",
    "ax.set_xticklabels(\n",
    "    ax.get_xticklabels(),\n",
    "    rotation=45,\n",
    "    horizontalalignment='right'\n",
    ");"
   ]
  },
  {
   "cell_type": "code",
   "execution_count": 56,
   "id": "c1b85643",
   "metadata": {},
   "outputs": [],
   "source": [
    "x = newcorn[['Year', 'BeginningStocks', 'Ending Stocks',\n",
    "       'Exports', 'Imports', 'Total Supply', 'Total Disapearance',\n",
    "       'Total Domestic Use', 'Stocks-to-Use']]\n",
    "y = newcorn[['CashPrice']]\n",
    "xtrain, xtest, ytrain, ytest = train_test_split(x, y, test_size=0.25, random_state = 3)"
   ]
  },
  {
   "cell_type": "code",
   "execution_count": 57,
   "id": "6072a882",
   "metadata": {},
   "outputs": [],
   "source": [
    "x = sm.add_constant(x)"
   ]
  },
  {
   "cell_type": "code",
   "execution_count": 58,
   "id": "ac5cfefa",
   "metadata": {
    "collapsed": true
   },
   "outputs": [
    {
     "data": {
      "text/plain": [
       "array([[2.86015636],\n",
       "       [2.62351396],\n",
       "       [2.30859103],\n",
       "       [4.30383423],\n",
       "       [4.54294517],\n",
       "       [2.53027315],\n",
       "       [2.88848244],\n",
       "       [2.50125005],\n",
       "       [2.79475813],\n",
       "       [2.74740352],\n",
       "       [2.27811134],\n",
       "       [2.75151545],\n",
       "       [2.09785055],\n",
       "       [2.55666469],\n",
       "       [3.79512663],\n",
       "       [2.9267804 ],\n",
       "       [2.67348143],\n",
       "       [1.73739896],\n",
       "       [1.61365521],\n",
       "       [2.98655168],\n",
       "       [3.17156247],\n",
       "       [2.99422818],\n",
       "       [4.18786763],\n",
       "       [2.96276886],\n",
       "       [2.78723852],\n",
       "       [2.84547593],\n",
       "       [3.29810432],\n",
       "       [2.62465583],\n",
       "       [3.16331022],\n",
       "       [2.11113672],\n",
       "       [2.70944132],\n",
       "       [4.47331444],\n",
       "       [3.79678959],\n",
       "       [2.9182963 ],\n",
       "       [2.70264333],\n",
       "       [2.34785072],\n",
       "       [2.79732708],\n",
       "       [1.06908897],\n",
       "       [2.33333116],\n",
       "       [2.91327127],\n",
       "       [1.29338002]])"
      ]
     },
     "execution_count": 58,
     "metadata": {},
     "output_type": "execute_result"
    }
   ],
   "source": [
    "LR = LinearRegression().fit(xtrain, ytrain)\n",
    "LRtrainpred = LR.predict(xtrain)\n",
    "LRtestpred = LR.predict(xtest)\n",
    "LRtestpred"
   ]
  },
  {
   "cell_type": "code",
   "execution_count": 63,
   "id": "6a633431",
   "metadata": {},
   "outputs": [
    {
     "name": "stdout",
     "output_type": "stream",
     "text": [
      "LR train vs test MSE:  0.6746804234872446 vs 0.6542461734752122\n",
      "MSE difference:        0.020434250012032362\n"
     ]
    }
   ],
   "source": [
    "LRtrainmse = metrics.mean_squared_error(ytrain, LRtrainpred)\n",
    "LRtestmse = metrics.mean_squared_error(ytest, LRtestpred) \n",
    "print('LR train vs test MSE: ', LRtrainmse, 'vs', LRtestmse)\n",
    "print('MSE difference:       ', (LRtrainmse-LRtestmse))"
   ]
  }
 ],
 "metadata": {
  "kernelspec": {
   "display_name": "Python 3",
   "language": "python",
   "name": "python3"
  },
  "language_info": {
   "codemirror_mode": {
    "name": "ipython",
    "version": 3
   },
   "file_extension": ".py",
   "mimetype": "text/x-python",
   "name": "python",
   "nbconvert_exporter": "python",
   "pygments_lexer": "ipython3",
   "version": "3.8.8"
  }
 },
 "nbformat": 4,
 "nbformat_minor": 5
}
